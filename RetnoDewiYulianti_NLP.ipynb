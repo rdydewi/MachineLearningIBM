{
  "nbformat": 4,
  "nbformat_minor": 0,
  "metadata": {
    "colab": {
      "name": "RetnoDewiYulianti_NLP.ipynb",
      "provenance": [],
      "collapsed_sections": [],
      "authorship_tag": "ABX9TyM80SFZRO8ZFEQjgFHUN1hd"
    },
    "kernelspec": {
      "name": "python3",
      "display_name": "Python 3"
    },
    "language_info": {
      "name": "python"
    }
  },
  "cells": [
    {
      "cell_type": "markdown",
      "metadata": {
        "id": "_7kO3uPdU4pY"
      },
      "source": [
        "# **Retno Dewi Yulianti**\n",
        "**Fresh Graduate Academy - Machine Learning IBM**\n",
        "\n",
        "*Dicoding ->> Proyek Pertama : Membuat Model NLP dengan TensorFlow*"
      ]
    },
    {
      "cell_type": "markdown",
      "metadata": {
        "id": "cwBOVfA4skJn"
      },
      "source": [
        "* **Data Source**: https://archive.ics.uci.edu/ml/datasets/Sentiment+Labelled+Sentences\n",
        "* **Data Set Information**: Created for the Paper 'From Group to Individual Labels using Deep Features', Kotzias et. al,. KDD 2015\n",
        "* **Data Set Names**: amazon_cells_labelled.txt "
      ]
    },
    {
      "cell_type": "code",
      "metadata": {
        "id": "sUDH94-uLjOP"
      },
      "source": [
        "import pandas as pd\n",
        "import numpy as np\n",
        "df = pd.read_csv('amazon_cells_labelled.txt', names=['sentence', 'label'], sep='\\t')"
      ],
      "execution_count": null,
      "outputs": []
    },
    {
      "cell_type": "code",
      "metadata": {
        "colab": {
          "base_uri": "https://localhost:8080/",
          "height": 204
        },
        "id": "BXAHoNbtS8eH",
        "outputId": "56c8dc05-86b2-4bdb-90b4-bd366fcd1915"
      },
      "source": [
        "df.tail()"
      ],
      "execution_count": null,
      "outputs": [
        {
          "output_type": "execute_result",
          "data": {
            "text/html": [
              "<div>\n",
              "<style scoped>\n",
              "    .dataframe tbody tr th:only-of-type {\n",
              "        vertical-align: middle;\n",
              "    }\n",
              "\n",
              "    .dataframe tbody tr th {\n",
              "        vertical-align: top;\n",
              "    }\n",
              "\n",
              "    .dataframe thead th {\n",
              "        text-align: right;\n",
              "    }\n",
              "</style>\n",
              "<table border=\"1\" class=\"dataframe\">\n",
              "  <thead>\n",
              "    <tr style=\"text-align: right;\">\n",
              "      <th></th>\n",
              "      <th>sentence</th>\n",
              "      <th>label</th>\n",
              "    </tr>\n",
              "  </thead>\n",
              "  <tbody>\n",
              "    <tr>\n",
              "      <th>995</th>\n",
              "      <td>The screen does get smudged easily because it ...</td>\n",
              "      <td>0</td>\n",
              "    </tr>\n",
              "    <tr>\n",
              "      <th>996</th>\n",
              "      <td>What a piece of junk.. I lose more calls on th...</td>\n",
              "      <td>0</td>\n",
              "    </tr>\n",
              "    <tr>\n",
              "      <th>997</th>\n",
              "      <td>Item Does Not Match Picture.</td>\n",
              "      <td>0</td>\n",
              "    </tr>\n",
              "    <tr>\n",
              "      <th>998</th>\n",
              "      <td>The only thing that disappoint me is the infra...</td>\n",
              "      <td>0</td>\n",
              "    </tr>\n",
              "    <tr>\n",
              "      <th>999</th>\n",
              "      <td>You can not answer calls with the unit, never ...</td>\n",
              "      <td>0</td>\n",
              "    </tr>\n",
              "  </tbody>\n",
              "</table>\n",
              "</div>"
            ],
            "text/plain": [
              "                                              sentence  label\n",
              "995  The screen does get smudged easily because it ...      0\n",
              "996  What a piece of junk.. I lose more calls on th...      0\n",
              "997                       Item Does Not Match Picture.      0\n",
              "998  The only thing that disappoint me is the infra...      0\n",
              "999  You can not answer calls with the unit, never ...      0"
            ]
          },
          "metadata": {
            "tags": []
          },
          "execution_count": 156
        }
      ]
    },
    {
      "cell_type": "code",
      "metadata": {
        "id": "4mOSv5quS_T3"
      },
      "source": [
        "from sklearn.model_selection import train_test_split\n",
        "kalimat = df['sentence'].values\n",
        "y = df['label'].values\n",
        "kalimat_latih, kalimat_test, y_latih, y_test = train_test_split(kalimat, y, test_size=0.2)"
      ],
      "execution_count": null,
      "outputs": []
    },
    {
      "cell_type": "code",
      "metadata": {
        "id": "gYYwDiqETLlM"
      },
      "source": [
        "from tensorflow.keras.preprocessing.text import Tokenizer\n",
        "from tensorflow.keras.preprocessing.sequence import pad_sequences\n",
        " \n",
        "tokenizer = Tokenizer(num_words=250, oov_token='x')\n",
        "tokenizer.fit_on_texts(kalimat_latih) \n",
        "tokenizer.fit_on_texts(kalimat_test)\n",
        " \n",
        "sekuens_latih = tokenizer.texts_to_sequences(kalimat_latih)\n",
        "sekuens_test = tokenizer.texts_to_sequences(kalimat_test)\n",
        " \n",
        "padded_latih = pad_sequences(sekuens_latih) \n",
        "padded_test = pad_sequences(sekuens_test)"
      ],
      "execution_count": null,
      "outputs": []
    },
    {
      "cell_type": "code",
      "metadata": {
        "id": "-YXM0sO0TP6k"
      },
      "source": [
        "import tensorflow as tf\n",
        "model = tf.keras.Sequential([\n",
        "    tf.keras.layers.Embedding(250, 16, input_length=20),\n",
        "    tf.keras.layers.GlobalAveragePooling1D(),\n",
        "    tf.keras.layers.Dense(24, activation='relu'),\n",
        "    tf.keras.layers.Dense(1, activation='sigmoid')\n",
        "])\n",
        "model.compile(loss='binary_crossentropy',optimizer='adam',metrics=['accuracy'])"
      ],
      "execution_count": null,
      "outputs": []
    },
    {
      "cell_type": "code",
      "metadata": {
        "colab": {
          "base_uri": "https://localhost:8080/"
        },
        "id": "w3m7lC94UA1B",
        "outputId": "8c2da92d-8db7-4943-cc5b-5ecdb3d59529"
      },
      "source": [
        "num_epochs = 30\n",
        "history = model.fit(padded_latih, y_latih, epochs=num_epochs, \n",
        "                    validation_data=(padded_test, y_test), verbose=2)"
      ],
      "execution_count": null,
      "outputs": [
        {
          "output_type": "stream",
          "text": [
            "Epoch 1/30\n",
            "WARNING:tensorflow:Model was constructed with shape (None, 20) for input KerasTensor(type_spec=TensorSpec(shape=(None, 20), dtype=tf.float32, name='embedding_25_input'), name='embedding_25_input', description=\"created by layer 'embedding_25_input'\"), but it was called on an input with incompatible shape (32, 29).\n",
            "WARNING:tensorflow:Model was constructed with shape (None, 20) for input KerasTensor(type_spec=TensorSpec(shape=(None, 20), dtype=tf.float32, name='embedding_25_input'), name='embedding_25_input', description=\"created by layer 'embedding_25_input'\"), but it was called on an input with incompatible shape (32, 29).\n",
            "WARNING:tensorflow:Model was constructed with shape (None, 20) for input KerasTensor(type_spec=TensorSpec(shape=(None, 20), dtype=tf.float32, name='embedding_25_input'), name='embedding_25_input', description=\"created by layer 'embedding_25_input'\"), but it was called on an input with incompatible shape (None, 30).\n",
            "25/25 - 1s - loss: 0.6930 - accuracy: 0.5163 - val_loss: 0.6927 - val_accuracy: 0.5300\n",
            "Epoch 2/30\n",
            "25/25 - 0s - loss: 0.6917 - accuracy: 0.6275 - val_loss: 0.6914 - val_accuracy: 0.7000\n",
            "Epoch 3/30\n",
            "25/25 - 0s - loss: 0.6893 - accuracy: 0.6712 - val_loss: 0.6895 - val_accuracy: 0.5550\n",
            "Epoch 4/30\n",
            "25/25 - 0s - loss: 0.6847 - accuracy: 0.6625 - val_loss: 0.6862 - val_accuracy: 0.5450\n",
            "Epoch 5/30\n",
            "25/25 - 0s - loss: 0.6793 - accuracy: 0.6712 - val_loss: 0.6814 - val_accuracy: 0.5450\n",
            "Epoch 6/30\n",
            "25/25 - 0s - loss: 0.6673 - accuracy: 0.7100 - val_loss: 0.6727 - val_accuracy: 0.7200\n",
            "Epoch 7/30\n",
            "25/25 - 0s - loss: 0.6530 - accuracy: 0.7462 - val_loss: 0.6622 - val_accuracy: 0.6700\n",
            "Epoch 8/30\n",
            "25/25 - 0s - loss: 0.6333 - accuracy: 0.7688 - val_loss: 0.6482 - val_accuracy: 0.6950\n",
            "Epoch 9/30\n",
            "25/25 - 0s - loss: 0.6089 - accuracy: 0.7800 - val_loss: 0.6313 - val_accuracy: 0.7000\n",
            "Epoch 10/30\n",
            "25/25 - 0s - loss: 0.5804 - accuracy: 0.7912 - val_loss: 0.6119 - val_accuracy: 0.7150\n",
            "Epoch 11/30\n",
            "25/25 - 0s - loss: 0.5496 - accuracy: 0.8125 - val_loss: 0.5895 - val_accuracy: 0.7350\n",
            "Epoch 12/30\n",
            "25/25 - 0s - loss: 0.5161 - accuracy: 0.8200 - val_loss: 0.5702 - val_accuracy: 0.7400\n",
            "Epoch 13/30\n",
            "25/25 - 0s - loss: 0.4841 - accuracy: 0.8338 - val_loss: 0.5516 - val_accuracy: 0.7300\n",
            "Epoch 14/30\n",
            "25/25 - 0s - loss: 0.4527 - accuracy: 0.8313 - val_loss: 0.5318 - val_accuracy: 0.7600\n",
            "Epoch 15/30\n",
            "25/25 - 0s - loss: 0.4244 - accuracy: 0.8388 - val_loss: 0.5177 - val_accuracy: 0.7550\n",
            "Epoch 16/30\n",
            "25/25 - 0s - loss: 0.4011 - accuracy: 0.8400 - val_loss: 0.5107 - val_accuracy: 0.7500\n",
            "Epoch 17/30\n",
            "25/25 - 0s - loss: 0.3782 - accuracy: 0.8512 - val_loss: 0.5009 - val_accuracy: 0.7600\n",
            "Epoch 18/30\n",
            "25/25 - 0s - loss: 0.3592 - accuracy: 0.8625 - val_loss: 0.4960 - val_accuracy: 0.7550\n",
            "Epoch 19/30\n",
            "25/25 - 0s - loss: 0.3425 - accuracy: 0.8550 - val_loss: 0.4945 - val_accuracy: 0.7450\n",
            "Epoch 20/30\n",
            "25/25 - 0s - loss: 0.3284 - accuracy: 0.8700 - val_loss: 0.4899 - val_accuracy: 0.7600\n",
            "Epoch 21/30\n",
            "25/25 - 0s - loss: 0.3179 - accuracy: 0.8712 - val_loss: 0.4897 - val_accuracy: 0.7550\n",
            "Epoch 22/30\n",
            "25/25 - 0s - loss: 0.3038 - accuracy: 0.8712 - val_loss: 0.4933 - val_accuracy: 0.7650\n",
            "Epoch 23/30\n",
            "25/25 - 0s - loss: 0.2935 - accuracy: 0.8737 - val_loss: 0.4982 - val_accuracy: 0.7550\n",
            "Epoch 24/30\n",
            "25/25 - 0s - loss: 0.2858 - accuracy: 0.8788 - val_loss: 0.4987 - val_accuracy: 0.7650\n",
            "Epoch 25/30\n",
            "25/25 - 0s - loss: 0.2759 - accuracy: 0.8813 - val_loss: 0.5106 - val_accuracy: 0.7700\n",
            "Epoch 26/30\n",
            "25/25 - 0s - loss: 0.2691 - accuracy: 0.8888 - val_loss: 0.5115 - val_accuracy: 0.7650\n",
            "Epoch 27/30\n",
            "25/25 - 0s - loss: 0.2610 - accuracy: 0.8900 - val_loss: 0.5163 - val_accuracy: 0.7700\n",
            "Epoch 28/30\n",
            "25/25 - 0s - loss: 0.2568 - accuracy: 0.8925 - val_loss: 0.5283 - val_accuracy: 0.7800\n",
            "Epoch 29/30\n",
            "25/25 - 0s - loss: 0.2501 - accuracy: 0.8938 - val_loss: 0.5317 - val_accuracy: 0.7700\n",
            "Epoch 30/30\n",
            "25/25 - 0s - loss: 0.2451 - accuracy: 0.8975 - val_loss: 0.5471 - val_accuracy: 0.7700\n"
          ],
          "name": "stdout"
        }
      ]
    },
    {
      "cell_type": "markdown",
      "metadata": {
        "id": "JHumwWQ9axtB"
      },
      "source": [
        "## **LSTM (Long Short-Term Memory)**"
      ]
    },
    {
      "cell_type": "code",
      "metadata": {
        "id": "Flxbhp6mabk7"
      },
      "source": [
        "import pandas as pd\n",
        "import numpy as np\n",
        "df = pd.read_csv('amazon_cells_labelled.txt', names=['sentence', 'label'], sep='\\t')"
      ],
      "execution_count": null,
      "outputs": []
    },
    {
      "cell_type": "code",
      "metadata": {
        "colab": {
          "base_uri": "https://localhost:8080/",
          "height": 419
        },
        "id": "giWNA1iTajbd",
        "outputId": "52b10772-b7ae-4749-af63-d129cd34a52e"
      },
      "source": [
        "category = pd.get_dummies(df.label)\n",
        "df_baru = pd.concat([df, category], axis=1)\n",
        "df_baru = df_baru.drop(columns='label')\n",
        "df_baru"
      ],
      "execution_count": null,
      "outputs": [
        {
          "output_type": "execute_result",
          "data": {
            "text/html": [
              "<div>\n",
              "<style scoped>\n",
              "    .dataframe tbody tr th:only-of-type {\n",
              "        vertical-align: middle;\n",
              "    }\n",
              "\n",
              "    .dataframe tbody tr th {\n",
              "        vertical-align: top;\n",
              "    }\n",
              "\n",
              "    .dataframe thead th {\n",
              "        text-align: right;\n",
              "    }\n",
              "</style>\n",
              "<table border=\"1\" class=\"dataframe\">\n",
              "  <thead>\n",
              "    <tr style=\"text-align: right;\">\n",
              "      <th></th>\n",
              "      <th>sentence</th>\n",
              "      <th>0</th>\n",
              "      <th>1</th>\n",
              "    </tr>\n",
              "  </thead>\n",
              "  <tbody>\n",
              "    <tr>\n",
              "      <th>0</th>\n",
              "      <td>So there is no way for me to plug it in here i...</td>\n",
              "      <td>1</td>\n",
              "      <td>0</td>\n",
              "    </tr>\n",
              "    <tr>\n",
              "      <th>1</th>\n",
              "      <td>Good case, Excellent value.</td>\n",
              "      <td>0</td>\n",
              "      <td>1</td>\n",
              "    </tr>\n",
              "    <tr>\n",
              "      <th>2</th>\n",
              "      <td>Great for the jawbone.</td>\n",
              "      <td>0</td>\n",
              "      <td>1</td>\n",
              "    </tr>\n",
              "    <tr>\n",
              "      <th>3</th>\n",
              "      <td>Tied to charger for conversations lasting more...</td>\n",
              "      <td>1</td>\n",
              "      <td>0</td>\n",
              "    </tr>\n",
              "    <tr>\n",
              "      <th>4</th>\n",
              "      <td>The mic is great.</td>\n",
              "      <td>0</td>\n",
              "      <td>1</td>\n",
              "    </tr>\n",
              "    <tr>\n",
              "      <th>...</th>\n",
              "      <td>...</td>\n",
              "      <td>...</td>\n",
              "      <td>...</td>\n",
              "    </tr>\n",
              "    <tr>\n",
              "      <th>995</th>\n",
              "      <td>The screen does get smudged easily because it ...</td>\n",
              "      <td>1</td>\n",
              "      <td>0</td>\n",
              "    </tr>\n",
              "    <tr>\n",
              "      <th>996</th>\n",
              "      <td>What a piece of junk.. I lose more calls on th...</td>\n",
              "      <td>1</td>\n",
              "      <td>0</td>\n",
              "    </tr>\n",
              "    <tr>\n",
              "      <th>997</th>\n",
              "      <td>Item Does Not Match Picture.</td>\n",
              "      <td>1</td>\n",
              "      <td>0</td>\n",
              "    </tr>\n",
              "    <tr>\n",
              "      <th>998</th>\n",
              "      <td>The only thing that disappoint me is the infra...</td>\n",
              "      <td>1</td>\n",
              "      <td>0</td>\n",
              "    </tr>\n",
              "    <tr>\n",
              "      <th>999</th>\n",
              "      <td>You can not answer calls with the unit, never ...</td>\n",
              "      <td>1</td>\n",
              "      <td>0</td>\n",
              "    </tr>\n",
              "  </tbody>\n",
              "</table>\n",
              "<p>1000 rows × 3 columns</p>\n",
              "</div>"
            ],
            "text/plain": [
              "                                              sentence  0  1\n",
              "0    So there is no way for me to plug it in here i...  1  0\n",
              "1                          Good case, Excellent value.  0  1\n",
              "2                               Great for the jawbone.  0  1\n",
              "3    Tied to charger for conversations lasting more...  1  0\n",
              "4                                    The mic is great.  0  1\n",
              "..                                                 ... .. ..\n",
              "995  The screen does get smudged easily because it ...  1  0\n",
              "996  What a piece of junk.. I lose more calls on th...  1  0\n",
              "997                       Item Does Not Match Picture.  1  0\n",
              "998  The only thing that disappoint me is the infra...  1  0\n",
              "999  You can not answer calls with the unit, never ...  1  0\n",
              "\n",
              "[1000 rows x 3 columns]"
            ]
          },
          "metadata": {
            "tags": []
          },
          "execution_count": 162
        }
      ]
    },
    {
      "cell_type": "code",
      "metadata": {
        "id": "JuY_ToP4a_E5"
      },
      "source": [
        "kalimat = df_baru['sentence'].values\n",
        "label = df_baru[[0, 1]].values"
      ],
      "execution_count": null,
      "outputs": []
    },
    {
      "cell_type": "code",
      "metadata": {
        "id": "Abzid3T3bJxx"
      },
      "source": [
        "from sklearn.model_selection import train_test_split\n",
        "kalimat_latih, kalimat_test, label_latih, label_test = train_test_split(kalimat, label, test_size=0.2)"
      ],
      "execution_count": null,
      "outputs": []
    },
    {
      "cell_type": "code",
      "metadata": {
        "id": "WNIUYqAebMUT"
      },
      "source": [
        "from tensorflow.keras.preprocessing.text import Tokenizer\n",
        "from tensorflow.keras.preprocessing.sequence import pad_sequences\n",
        " \n",
        "tokenizer = Tokenizer(num_words=5000, oov_token='x')\n",
        "tokenizer.fit_on_texts(kalimat_latih) \n",
        "tokenizer.fit_on_texts(kalimat_test)\n",
        " \n",
        "sekuens_latih = tokenizer.texts_to_sequences(kalimat_latih)\n",
        "sekuens_test = tokenizer.texts_to_sequences(kalimat_test)\n",
        " \n",
        "padded_latih = pad_sequences(sekuens_latih)\n",
        "padded_test = pad_sequences(sekuens_test)"
      ],
      "execution_count": null,
      "outputs": []
    },
    {
      "cell_type": "code",
      "metadata": {
        "id": "y_6itVEvbb0O"
      },
      "source": [
        "import tensorflow as tf\n",
        "model = tf.keras.Sequential([\n",
        "    tf.keras.layers.Embedding(input_dim=5000, output_dim=16),\n",
        "    tf.keras.layers.LSTM(64),\n",
        "    tf.keras.layers.Dense(128, activation='relu'),\n",
        "    tf.keras.layers.Dense(64, activation='relu'),\n",
        "    tf.keras.layers.Dense(2, activation='softmax')\n",
        "])\n",
        "model.compile(loss='categorical_crossentropy',optimizer='adam',metrics=['accuracy'])"
      ],
      "execution_count": null,
      "outputs": []
    },
    {
      "cell_type": "code",
      "metadata": {
        "colab": {
          "base_uri": "https://localhost:8080/"
        },
        "id": "JImPLybTUwz6",
        "outputId": "f496c513-d553-4c31-cf69-ac4758facc74"
      },
      "source": [
        "num_epochs = 30\n",
        "history = model.fit(padded_latih, label_latih, epochs=num_epochs, validation_data=(padded_test, label_test), verbose=2)"
      ],
      "execution_count": null,
      "outputs": [
        {
          "output_type": "stream",
          "text": [
            "Epoch 1/30\n",
            "25/25 - 2s - loss: 0.6932 - accuracy: 0.4938 - val_loss: 0.6907 - val_accuracy: 0.6000\n",
            "Epoch 2/30\n",
            "25/25 - 0s - loss: 0.6753 - accuracy: 0.6600 - val_loss: 0.6635 - val_accuracy: 0.5600\n",
            "Epoch 3/30\n",
            "25/25 - 0s - loss: 0.4345 - accuracy: 0.8512 - val_loss: 0.5852 - val_accuracy: 0.7300\n",
            "Epoch 4/30\n",
            "25/25 - 0s - loss: 0.1765 - accuracy: 0.9325 - val_loss: 0.6067 - val_accuracy: 0.7500\n",
            "Epoch 5/30\n",
            "25/25 - 0s - loss: 0.0589 - accuracy: 0.9862 - val_loss: 0.7886 - val_accuracy: 0.7850\n",
            "Epoch 6/30\n",
            "25/25 - 0s - loss: 0.0134 - accuracy: 0.9975 - val_loss: 1.0776 - val_accuracy: 0.7900\n",
            "Epoch 7/30\n",
            "25/25 - 1s - loss: 0.0061 - accuracy: 0.9987 - val_loss: 1.1438 - val_accuracy: 0.7650\n",
            "Epoch 8/30\n",
            "25/25 - 0s - loss: 0.0036 - accuracy: 0.9987 - val_loss: 1.2339 - val_accuracy: 0.7750\n",
            "Epoch 9/30\n",
            "25/25 - 0s - loss: 0.0016 - accuracy: 1.0000 - val_loss: 1.2966 - val_accuracy: 0.7700\n",
            "Epoch 10/30\n",
            "25/25 - 0s - loss: 5.6376e-04 - accuracy: 1.0000 - val_loss: 1.3591 - val_accuracy: 0.7900\n",
            "Epoch 11/30\n",
            "25/25 - 0s - loss: 3.5672e-04 - accuracy: 1.0000 - val_loss: 1.3982 - val_accuracy: 0.7800\n",
            "Epoch 12/30\n",
            "25/25 - 0s - loss: 2.7614e-04 - accuracy: 1.0000 - val_loss: 1.4434 - val_accuracy: 0.7800\n",
            "Epoch 13/30\n",
            "25/25 - 0s - loss: 2.1703e-04 - accuracy: 1.0000 - val_loss: 1.4814 - val_accuracy: 0.7800\n",
            "Epoch 14/30\n",
            "25/25 - 0s - loss: 1.7519e-04 - accuracy: 1.0000 - val_loss: 1.5154 - val_accuracy: 0.7800\n",
            "Epoch 15/30\n",
            "25/25 - 0s - loss: 1.4696e-04 - accuracy: 1.0000 - val_loss: 1.5500 - val_accuracy: 0.7750\n",
            "Epoch 16/30\n",
            "25/25 - 0s - loss: 1.2210e-04 - accuracy: 1.0000 - val_loss: 1.5788 - val_accuracy: 0.7800\n",
            "Epoch 17/30\n",
            "25/25 - 0s - loss: 1.0585e-04 - accuracy: 1.0000 - val_loss: 1.6067 - val_accuracy: 0.7800\n",
            "Epoch 18/30\n",
            "25/25 - 0s - loss: 9.0744e-05 - accuracy: 1.0000 - val_loss: 1.6358 - val_accuracy: 0.7800\n",
            "Epoch 19/30\n",
            "25/25 - 0s - loss: 7.8459e-05 - accuracy: 1.0000 - val_loss: 1.6594 - val_accuracy: 0.7800\n",
            "Epoch 20/30\n",
            "25/25 - 0s - loss: 7.0504e-05 - accuracy: 1.0000 - val_loss: 1.6831 - val_accuracy: 0.7800\n",
            "Epoch 21/30\n",
            "25/25 - 0s - loss: 6.0868e-05 - accuracy: 1.0000 - val_loss: 1.7065 - val_accuracy: 0.7800\n",
            "Epoch 22/30\n",
            "25/25 - 0s - loss: 5.3968e-05 - accuracy: 1.0000 - val_loss: 1.7299 - val_accuracy: 0.7800\n",
            "Epoch 23/30\n",
            "25/25 - 0s - loss: 4.8555e-05 - accuracy: 1.0000 - val_loss: 1.7513 - val_accuracy: 0.7800\n",
            "Epoch 24/30\n",
            "25/25 - 0s - loss: 4.3668e-05 - accuracy: 1.0000 - val_loss: 1.7708 - val_accuracy: 0.7800\n",
            "Epoch 25/30\n",
            "25/25 - 0s - loss: 3.9449e-05 - accuracy: 1.0000 - val_loss: 1.7906 - val_accuracy: 0.7800\n",
            "Epoch 26/30\n",
            "25/25 - 0s - loss: 3.5586e-05 - accuracy: 1.0000 - val_loss: 1.8094 - val_accuracy: 0.7800\n",
            "Epoch 27/30\n",
            "25/25 - 0s - loss: 3.2445e-05 - accuracy: 1.0000 - val_loss: 1.8271 - val_accuracy: 0.7800\n",
            "Epoch 28/30\n",
            "25/25 - 0s - loss: 2.9627e-05 - accuracy: 1.0000 - val_loss: 1.8448 - val_accuracy: 0.7800\n",
            "Epoch 29/30\n",
            "25/25 - 0s - loss: 2.7561e-05 - accuracy: 1.0000 - val_loss: 1.8629 - val_accuracy: 0.7800\n",
            "Epoch 30/30\n",
            "25/25 - 0s - loss: 2.4744e-05 - accuracy: 1.0000 - val_loss: 1.8793 - val_accuracy: 0.7800\n"
          ],
          "name": "stdout"
        }
      ]
    },
    {
      "cell_type": "markdown",
      "metadata": {
        "id": "E7odKG0YvlAn"
      },
      "source": [
        "## **Using Callback**"
      ]
    },
    {
      "cell_type": "code",
      "metadata": {
        "id": "ymxq2oIywnRM"
      },
      "source": [
        "import pandas as pd\n",
        "import numpy as np\n",
        "df = pd.read_csv('amazon_cells_labelled.txt', names=['sentence', 'label'], sep='\\t')"
      ],
      "execution_count": null,
      "outputs": []
    },
    {
      "cell_type": "code",
      "metadata": {
        "colab": {
          "base_uri": "https://localhost:8080/",
          "height": 419
        },
        "id": "4vH7THY3wy9z",
        "outputId": "3c05085b-7e9e-41d2-dd2b-6ebfac8b07cd"
      },
      "source": [
        "category = pd.get_dummies(df.label)\n",
        "df_baru = pd.concat([df, category], axis=1)\n",
        "df_baru = df_baru.drop(columns='label')\n",
        "df_baru"
      ],
      "execution_count": null,
      "outputs": [
        {
          "output_type": "execute_result",
          "data": {
            "text/html": [
              "<div>\n",
              "<style scoped>\n",
              "    .dataframe tbody tr th:only-of-type {\n",
              "        vertical-align: middle;\n",
              "    }\n",
              "\n",
              "    .dataframe tbody tr th {\n",
              "        vertical-align: top;\n",
              "    }\n",
              "\n",
              "    .dataframe thead th {\n",
              "        text-align: right;\n",
              "    }\n",
              "</style>\n",
              "<table border=\"1\" class=\"dataframe\">\n",
              "  <thead>\n",
              "    <tr style=\"text-align: right;\">\n",
              "      <th></th>\n",
              "      <th>sentence</th>\n",
              "      <th>0</th>\n",
              "      <th>1</th>\n",
              "    </tr>\n",
              "  </thead>\n",
              "  <tbody>\n",
              "    <tr>\n",
              "      <th>0</th>\n",
              "      <td>So there is no way for me to plug it in here i...</td>\n",
              "      <td>1</td>\n",
              "      <td>0</td>\n",
              "    </tr>\n",
              "    <tr>\n",
              "      <th>1</th>\n",
              "      <td>Good case, Excellent value.</td>\n",
              "      <td>0</td>\n",
              "      <td>1</td>\n",
              "    </tr>\n",
              "    <tr>\n",
              "      <th>2</th>\n",
              "      <td>Great for the jawbone.</td>\n",
              "      <td>0</td>\n",
              "      <td>1</td>\n",
              "    </tr>\n",
              "    <tr>\n",
              "      <th>3</th>\n",
              "      <td>Tied to charger for conversations lasting more...</td>\n",
              "      <td>1</td>\n",
              "      <td>0</td>\n",
              "    </tr>\n",
              "    <tr>\n",
              "      <th>4</th>\n",
              "      <td>The mic is great.</td>\n",
              "      <td>0</td>\n",
              "      <td>1</td>\n",
              "    </tr>\n",
              "    <tr>\n",
              "      <th>...</th>\n",
              "      <td>...</td>\n",
              "      <td>...</td>\n",
              "      <td>...</td>\n",
              "    </tr>\n",
              "    <tr>\n",
              "      <th>995</th>\n",
              "      <td>The screen does get smudged easily because it ...</td>\n",
              "      <td>1</td>\n",
              "      <td>0</td>\n",
              "    </tr>\n",
              "    <tr>\n",
              "      <th>996</th>\n",
              "      <td>What a piece of junk.. I lose more calls on th...</td>\n",
              "      <td>1</td>\n",
              "      <td>0</td>\n",
              "    </tr>\n",
              "    <tr>\n",
              "      <th>997</th>\n",
              "      <td>Item Does Not Match Picture.</td>\n",
              "      <td>1</td>\n",
              "      <td>0</td>\n",
              "    </tr>\n",
              "    <tr>\n",
              "      <th>998</th>\n",
              "      <td>The only thing that disappoint me is the infra...</td>\n",
              "      <td>1</td>\n",
              "      <td>0</td>\n",
              "    </tr>\n",
              "    <tr>\n",
              "      <th>999</th>\n",
              "      <td>You can not answer calls with the unit, never ...</td>\n",
              "      <td>1</td>\n",
              "      <td>0</td>\n",
              "    </tr>\n",
              "  </tbody>\n",
              "</table>\n",
              "<p>1000 rows × 3 columns</p>\n",
              "</div>"
            ],
            "text/plain": [
              "                                              sentence  0  1\n",
              "0    So there is no way for me to plug it in here i...  1  0\n",
              "1                          Good case, Excellent value.  0  1\n",
              "2                               Great for the jawbone.  0  1\n",
              "3    Tied to charger for conversations lasting more...  1  0\n",
              "4                                    The mic is great.  0  1\n",
              "..                                                 ... .. ..\n",
              "995  The screen does get smudged easily because it ...  1  0\n",
              "996  What a piece of junk.. I lose more calls on th...  1  0\n",
              "997                       Item Does Not Match Picture.  1  0\n",
              "998  The only thing that disappoint me is the infra...  1  0\n",
              "999  You can not answer calls with the unit, never ...  1  0\n",
              "\n",
              "[1000 rows x 3 columns]"
            ]
          },
          "metadata": {
            "tags": []
          },
          "execution_count": 169
        }
      ]
    },
    {
      "cell_type": "code",
      "metadata": {
        "id": "6GSYW-fmxXjW"
      },
      "source": [
        "kalimat = df_baru['sentence'].values\n",
        "label = df_baru[[0, 1]].values"
      ],
      "execution_count": null,
      "outputs": []
    },
    {
      "cell_type": "code",
      "metadata": {
        "id": "hzdekqu-woBb"
      },
      "source": [
        "from sklearn.model_selection import train_test_split\n",
        "kalimat_latih, kalimat_test, label_latih, label_test = train_test_split(kalimat, label, test_size=0.2)"
      ],
      "execution_count": null,
      "outputs": []
    },
    {
      "cell_type": "code",
      "metadata": {
        "id": "si7pAwmXw0B0"
      },
      "source": [
        "from tensorflow.keras.preprocessing.text import Tokenizer\n",
        "from tensorflow.keras.preprocessing.sequence import pad_sequences\n",
        " \n",
        "tokenizer = Tokenizer(num_words=5000, oov_token='x')\n",
        "tokenizer.fit_on_texts(kalimat_latih) \n",
        "tokenizer.fit_on_texts(kalimat_test)\n",
        " \n",
        "sekuens_latih = tokenizer.texts_to_sequences(kalimat_latih)\n",
        "sekuens_test = tokenizer.texts_to_sequences(kalimat_test)\n",
        " \n",
        "padded_latih = pad_sequences(sekuens_latih)\n",
        "padded_test = pad_sequences(sekuens_test)"
      ],
      "execution_count": null,
      "outputs": []
    },
    {
      "cell_type": "code",
      "metadata": {
        "id": "g3cnJwonurdD"
      },
      "source": [
        "# Callback: used for end training process if accuracy is convenient\n",
        "class myCallback(tf.keras.callbacks.Callback):\n",
        "  def on_epoch_end(self, epoch, logs={}):\n",
        "    if(logs.get('accuracy') > 0.96):\n",
        "      print(\"\\nFulfilled Accuration.\")\n",
        "      self.model.stop_training = True\n",
        "\n",
        "callbacks = myCallback()"
      ],
      "execution_count": null,
      "outputs": []
    },
    {
      "cell_type": "code",
      "metadata": {
        "id": "2KrU1VRMzbEn"
      },
      "source": [
        "import tensorflow as tf\n",
        "model = tf.keras.Sequential([\n",
        "    tf.keras.layers.Embedding(input_dim=5000, output_dim=16),\n",
        "    tf.keras.layers.LSTM(64),\n",
        "    tf.keras.layers.Dense(128, activation='relu'),\n",
        "    tf.keras.layers.Dense(64, activation='relu'),\n",
        "    tf.keras.layers.Dense(2, activation='softmax')\n",
        "])\n",
        "model.compile(loss='categorical_crossentropy',optimizer='adam',metrics=['accuracy'])"
      ],
      "execution_count": null,
      "outputs": []
    },
    {
      "cell_type": "code",
      "metadata": {
        "colab": {
          "base_uri": "https://localhost:8080/"
        },
        "id": "-dTnXrmzutxn",
        "outputId": "68884e36-6dbe-439a-da4e-d5d4ceb572a8"
      },
      "source": [
        "num_epochs = 30\n",
        "history = model.fit(padded_latih, label_latih, epochs=num_epochs, validation_data=(padded_test, label_test), \n",
        "                    verbose=2,\n",
        "                    callbacks=[callbacks]\n",
        ")"
      ],
      "execution_count": null,
      "outputs": [
        {
          "output_type": "stream",
          "text": [
            "Epoch 1/30\n",
            "25/25 - 3s - loss: 0.6918 - accuracy: 0.5238 - val_loss: 0.6887 - val_accuracy: 0.5350\n",
            "Epoch 2/30\n",
            "25/25 - 0s - loss: 0.6517 - accuracy: 0.6600 - val_loss: 0.6040 - val_accuracy: 0.6600\n",
            "Epoch 3/30\n",
            "25/25 - 0s - loss: 0.3954 - accuracy: 0.8487 - val_loss: 0.4030 - val_accuracy: 0.8200\n",
            "Epoch 4/30\n",
            "25/25 - 0s - loss: 0.1391 - accuracy: 0.9513 - val_loss: 0.4062 - val_accuracy: 0.8350\n",
            "Epoch 5/30\n",
            "25/25 - 0s - loss: 0.0632 - accuracy: 0.9825 - val_loss: 0.3902 - val_accuracy: 0.8500\n",
            "\n",
            "Fulfilled Accuration.\n"
          ],
          "name": "stdout"
        }
      ]
    },
    {
      "cell_type": "code",
      "metadata": {
        "colab": {
          "base_uri": "https://localhost:8080/",
          "height": 295
        },
        "id": "mgwuLehdy8ZW",
        "outputId": "155050c4-7f58-431f-a55a-10fad86ec512"
      },
      "source": [
        "from matplotlib import pyplot as plt\n",
        "#accuracy train & validation\n",
        "plt.plot(history.history['accuracy'], label='Training Accuracy')\n",
        "plt.plot(history.history['val_accuracy'], label='Validation Accuracy')\n",
        "plt.title('Accuracy Graph')\n",
        "plt.ylabel('Value')\n",
        "plt.xlabel('Epoch')\n",
        "plt.legend(loc=\"upper right\")\n",
        "plt.show()"
      ],
      "execution_count": null,
      "outputs": [
        {
          "output_type": "display_data",
          "data": {
            "image/png": "[encoded data removed]",
            "text/plain": [
              "<Figure size 432x288 with 1 Axes>"
            ]
          },
          "metadata": {
            "tags": [],
            "needs_background": "light"
          }
        }
      ]
    },
    {
      "cell_type": "code",
      "metadata": {
        "colab": {
          "base_uri": "https://localhost:8080/",
          "height": 295
        },
        "id": "wKMIQy7mt--s",
        "outputId": "8994bc49-a140-47cc-df45-1e8fe36df055"
      },
      "source": [
        "from matplotlib import pyplot as plt\n",
        "#loss train & validation\n",
        "plt.plot(history.history['loss'], label='Training Loss')\n",
        "plt.plot(history.history['val_loss'], label='Validation Loss')\n",
        "plt.title('Loss Graph')\n",
        "plt.ylabel('Value')\n",
        "plt.xlabel('Epoch')\n",
        "plt.legend(loc=\"upper right\")\n",
        "plt.show()"
      ],
      "execution_count": null,
      "outputs": [
        {
          "output_type": "display_data",
          "data": {
            "image/png": "[encoded data removed]",
            "text/plain": [
              "<Figure size 432x288 with 1 Axes>"
            ]
          },
          "metadata": {
            "tags": [],
            "needs_background": "light"
          }
        }
      ]
    }
  ]
}